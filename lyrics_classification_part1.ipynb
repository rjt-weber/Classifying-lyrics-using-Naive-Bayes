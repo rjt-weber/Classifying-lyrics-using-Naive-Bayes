{
 "cells": [
  {
   "cell_type": "markdown",
   "metadata": {},
   "source": [
    "# Lyrics Classification Part 1: Converting Text into Vectors Using Bag of Words\n",
    "In this notebook I show how to build a features matrix from song lyrics scraped from the web. The features are columns of each word occurring in any single song. Each column contains counts of the word frequency within the song, normalized by the frequency of the word within the entire scraped lyrics corpus. The goal is to classify a song as belonging to a particular artist. The concept is that any artist will likely have particular words they frequently use, by which the model can identify them.\n",
    "\n",
    "I execute the following steps:\n",
    "- Read in the song files from the Data directory\n",
    "- Prepare the data by creating tokens of the words (lemmatization) and removing stop words\n",
    "- Select only two artists to create a binary classification problem. Multiple classification will be discussed in Lyrics Classification part 2\n",
    "- Feature engineer by creating columns of normalized word frequencies for each word (i.e. building a dataframe of several thousand columns)\n",
    "- Fit a Naive-Bayes model to the training data\n",
    "- Score the model\n",
    "- Plot the precision-recall curve\n",
    "\n",
    "**Prerequisites**: Run the script webscraping.py in your terminal in order to scrape the songs from the web and save the files in the Data directory"
   ]
  },
  {
   "cell_type": "markdown",
   "metadata": {},
   "source": [
    "## Import external libraries"
   ]
  },
  {
   "cell_type": "code",
   "execution_count": 1,
   "metadata": {},
   "outputs": [],
   "source": [
    "import warnings\n",
    "import pandas as pd\n",
    "import os\n",
    "from sklearn.feature_extraction.text import CountVectorizer\n",
    "from sklearn.feature_extraction.text import TfidfTransformer\n",
    "from sklearn.model_selection import cross_val_score, train_test_split\n",
    "from sklearn.naive_bayes import MultinomialNB\n",
    "from sklearn.linear_model import LogisticRegression\n",
    "from sklearn import metrics\n",
    "from sklearn.pipeline import Pipeline, make_pipeline\n",
    "from imblearn.over_sampling import RandomOverSampler\n",
    "import spacy\n",
    "import matplotlib.pyplot as plt\n",
    "\n",
    "warnings.filterwarnings('ignore')"
   ]
  },
  {
   "cell_type": "markdown",
   "metadata": {},
   "source": [
    "## Import functions from script"
   ]
  },
  {
   "cell_type": "code",
   "execution_count": 2,
   "metadata": {},
   "outputs": [],
   "source": [
    "import functions as func"
   ]
  },
  {
   "cell_type": "markdown",
   "metadata": {},
   "source": [
    "## 1. Read song files\n",
    "- Read names of song files into a list"
   ]
  },
  {
   "cell_type": "code",
   "execution_count": 3,
   "metadata": {},
   "outputs": [
    {
     "name": "stdout",
     "output_type": "stream",
     "text": [
      "1. Reading data...\n",
      "\n"
     ]
    }
   ],
   "source": [
    "print('1. Reading data...\\n')\n",
    "songFiles = [f for f in os.listdir('Data/Webscraping/song_lyrics') if not f.startswith(\".\")]\n",
    "    "
   ]
  },
  {
   "cell_type": "markdown",
   "metadata": {},
   "source": [
    "## 2. Prepare data\n",
    "- Load bag of words model from spacy\n",
    "- Read song files and separate artist, song lyrics and song titles\n",
    "- Clean song lyrics by removing new line characters\n",
    "- Tokenize relevant words\n",
    "    - Include only alpha-numeric characters\n",
    "    - Remove stop words and punctuation\n",
    "    - Reduce words to their word stems, also known as lemmatization (e.g. \"jumping\" -> \"jump\")\n",
    "- Return list of tokenized song lyrics\n",
    "- Create dataframe with columns:\n",
    "    - artist\n",
    "    - tokenized song lyrics\n",
    "    - song title (only for quality control)"
   ]
  },
  {
   "cell_type": "code",
   "execution_count": 4,
   "metadata": {},
   "outputs": [
    {
     "name": "stdout",
     "output_type": "stream",
     "text": [
      "2. Preparing data...\n",
      "\n"
     ]
    }
   ],
   "source": [
    "print('2. Preparing data...\\n')\n",
    "filepath = \"Data/Webscraping/song_lyrics/\"\n",
    "model = spacy.load('en_core_web_sm') \n",
    "\n",
    "[artists, songLyrics, songTitles] = func.read_lyricsFiles(songFiles, filepath)\n",
    "songLyrics_cleaned = func.clean_and_tokenize_lyrics(songLyrics, model)"
   ]
  },
  {
   "cell_type": "code",
   "execution_count": 5,
   "metadata": {},
   "outputs": [],
   "source": [
    "df = func.create_dataframe_lyrics(artists, songLyrics_cleaned, songTitles)\n",
    "df_binary = df[(df['artist'] == \"Bob-Dylan\") | (df['artist'] == \"Jay-Z\") ]\n",
    "y = df_binary.artist\n",
    "X = df_binary.lyrics\n",
    "\n",
    "X_train, X_test, y_train, y_test = train_test_split(X, y, random_state=42, stratify= y)"
   ]
  },
  {
   "cell_type": "code",
   "execution_count": 6,
   "metadata": {},
   "outputs": [
    {
     "data": {
      "text/html": [
       "<div>\n",
       "<style scoped>\n",
       "    .dataframe tbody tr th:only-of-type {\n",
       "        vertical-align: middle;\n",
       "    }\n",
       "\n",
       "    .dataframe tbody tr th {\n",
       "        vertical-align: top;\n",
       "    }\n",
       "\n",
       "    .dataframe thead th {\n",
       "        text-align: right;\n",
       "    }\n",
       "</style>\n",
       "<table border=\"1\" class=\"dataframe\">\n",
       "  <thead>\n",
       "    <tr style=\"text-align: right;\">\n",
       "      <th></th>\n",
       "      <th>artist</th>\n",
       "      <th>lyrics</th>\n",
       "      <th>songTitle</th>\n",
       "    </tr>\n",
       "  </thead>\n",
       "  <tbody>\n",
       "    <tr>\n",
       "      <th>0</th>\n",
       "      <td>Whitney-Houston</td>\n",
       "      <td>lie Heaven hear lose cause give winter storm c...</td>\n",
       "      <td>I Look to You</td>\n",
       "    </tr>\n",
       "    <tr>\n",
       "      <th>1</th>\n",
       "      <td>Mumford-%26-Sons</td>\n",
       "      <td>wanna turn away time different line cruel kind...</td>\n",
       "      <td>Wona</td>\n",
       "    </tr>\n",
       "    <tr>\n",
       "      <th>2</th>\n",
       "      <td>Jay-Z</td>\n",
       "      <td>Rocafella millionaire bitch early right haha h...</td>\n",
       "      <td>Big Spender</td>\n",
       "    </tr>\n",
       "    <tr>\n",
       "      <th>3</th>\n",
       "      <td>Adele</td>\n",
       "      <td>leave goodbye single word say final kiss seal ...</td>\n",
       "      <td>Don't You Remember</td>\n",
       "    </tr>\n",
       "    <tr>\n",
       "      <th>4</th>\n",
       "      <td>Lady-Gaga</td>\n",
       "      <td>oh tonight go to killer queen inside come hell...</td>\n",
       "      <td>The Queen</td>\n",
       "    </tr>\n",
       "  </tbody>\n",
       "</table>\n",
       "</div>"
      ],
      "text/plain": [
       "             artist                                             lyrics  \\\n",
       "0   Whitney-Houston  lie Heaven hear lose cause give winter storm c...   \n",
       "1  Mumford-%26-Sons  wanna turn away time different line cruel kind...   \n",
       "2             Jay-Z  Rocafella millionaire bitch early right haha h...   \n",
       "3             Adele  leave goodbye single word say final kiss seal ...   \n",
       "4         Lady-Gaga  oh tonight go to killer queen inside come hell...   \n",
       "\n",
       "            songTitle  \n",
       "0       I Look to You  \n",
       "1                Wona  \n",
       "2         Big Spender  \n",
       "3  Don't You Remember  \n",
       "4           The Queen  "
      ]
     },
     "execution_count": 6,
     "metadata": {},
     "output_type": "execute_result"
    }
   ],
   "source": [
    "df.head()"
   ]
  },
  {
   "cell_type": "markdown",
   "metadata": {},
   "source": [
    "## 3. Feature engineer\n",
    "- Count number of occurrences of each token/word in the lyrics column\n",
    "- Normalize count using tf-idf transformer, i.e. divide the term frequency by the inverse of the document frequency\n",
    "- Return dataframe containing the count densities of each word per song\n",
    "    - Each word in the entire lyrics corpus is a column in the dataframe"
   ]
  },
  {
   "cell_type": "code",
   "execution_count": 7,
   "metadata": {},
   "outputs": [
    {
     "name": "stdout",
     "output_type": "stream",
     "text": [
      "3. Feature Engineering...\n",
      "\n"
     ]
    }
   ],
   "source": [
    "print('3. Feature Engineering...\\n')\n",
    "cv = CountVectorizer(stop_words='english')\n",
    "tf = TfidfTransformer()    \n",
    "vec_corpus_train = cv.fit_transform(X_train)\n",
    "vec_corpus_test = cv.transform(X_test)\n",
    "\n",
    "tf_corpus_train = tf.fit_transform(vec_corpus_train)\n",
    "tf_corpus_test = tf.transform(vec_corpus_test)\n",
    "\n",
    "X_train_tfdf = func.tfdf_bow(cv, tf_corpus_train)\n",
    "X_test_tfdf = func.tfdf_bow(cv, tf_corpus_test)"
   ]
  },
  {
   "cell_type": "code",
   "execution_count": 8,
   "metadata": {},
   "outputs": [
    {
     "data": {
      "text/html": [
       "<div>\n",
       "<style scoped>\n",
       "    .dataframe tbody tr th:only-of-type {\n",
       "        vertical-align: middle;\n",
       "    }\n",
       "\n",
       "    .dataframe tbody tr th {\n",
       "        vertical-align: top;\n",
       "    }\n",
       "\n",
       "    .dataframe thead th {\n",
       "        text-align: right;\n",
       "    }\n",
       "</style>\n",
       "<table border=\"1\" class=\"dataframe\">\n",
       "  <thead>\n",
       "    <tr style=\"text-align: right;\">\n",
       "      <th></th>\n",
       "      <th>aa</th>\n",
       "      <th>ab</th>\n",
       "      <th>abandon</th>\n",
       "      <th>aberdeen</th>\n",
       "      <th>abide</th>\n",
       "      <th>abiti</th>\n",
       "      <th>able</th>\n",
       "      <th>abortion</th>\n",
       "      <th>absence</th>\n",
       "      <th>absent</th>\n",
       "      <th>...</th>\n",
       "      <th>youth</th>\n",
       "      <th>youtube</th>\n",
       "      <th>yup</th>\n",
       "      <th>zapatos</th>\n",
       "      <th>zero</th>\n",
       "      <th>zimmerman</th>\n",
       "      <th>zo</th>\n",
       "      <th>zone</th>\n",
       "      <th>zoo</th>\n",
       "      <th>ɲi</th>\n",
       "    </tr>\n",
       "  </thead>\n",
       "  <tbody>\n",
       "    <tr>\n",
       "      <th>0</th>\n",
       "      <td>0.0</td>\n",
       "      <td>0.0</td>\n",
       "      <td>0.0</td>\n",
       "      <td>0.0</td>\n",
       "      <td>0.0</td>\n",
       "      <td>0.0</td>\n",
       "      <td>0.0</td>\n",
       "      <td>0.0</td>\n",
       "      <td>0.0</td>\n",
       "      <td>0.0</td>\n",
       "      <td>...</td>\n",
       "      <td>0.0</td>\n",
       "      <td>0.0</td>\n",
       "      <td>0.0</td>\n",
       "      <td>0.0</td>\n",
       "      <td>0.00</td>\n",
       "      <td>0.0</td>\n",
       "      <td>0.0</td>\n",
       "      <td>0.0</td>\n",
       "      <td>0.0</td>\n",
       "      <td>0.0</td>\n",
       "    </tr>\n",
       "    <tr>\n",
       "      <th>1</th>\n",
       "      <td>0.0</td>\n",
       "      <td>0.0</td>\n",
       "      <td>0.0</td>\n",
       "      <td>0.0</td>\n",
       "      <td>0.0</td>\n",
       "      <td>0.0</td>\n",
       "      <td>0.0</td>\n",
       "      <td>0.0</td>\n",
       "      <td>0.0</td>\n",
       "      <td>0.0</td>\n",
       "      <td>...</td>\n",
       "      <td>0.0</td>\n",
       "      <td>0.0</td>\n",
       "      <td>0.0</td>\n",
       "      <td>0.0</td>\n",
       "      <td>0.00</td>\n",
       "      <td>0.0</td>\n",
       "      <td>0.0</td>\n",
       "      <td>0.0</td>\n",
       "      <td>0.0</td>\n",
       "      <td>0.0</td>\n",
       "    </tr>\n",
       "    <tr>\n",
       "      <th>2</th>\n",
       "      <td>0.0</td>\n",
       "      <td>0.0</td>\n",
       "      <td>0.0</td>\n",
       "      <td>0.0</td>\n",
       "      <td>0.0</td>\n",
       "      <td>0.0</td>\n",
       "      <td>0.0</td>\n",
       "      <td>0.0</td>\n",
       "      <td>0.0</td>\n",
       "      <td>0.0</td>\n",
       "      <td>...</td>\n",
       "      <td>0.0</td>\n",
       "      <td>0.0</td>\n",
       "      <td>0.0</td>\n",
       "      <td>0.0</td>\n",
       "      <td>0.00</td>\n",
       "      <td>0.0</td>\n",
       "      <td>0.0</td>\n",
       "      <td>0.0</td>\n",
       "      <td>0.0</td>\n",
       "      <td>0.0</td>\n",
       "    </tr>\n",
       "    <tr>\n",
       "      <th>3</th>\n",
       "      <td>0.0</td>\n",
       "      <td>0.0</td>\n",
       "      <td>0.0</td>\n",
       "      <td>0.0</td>\n",
       "      <td>0.0</td>\n",
       "      <td>0.0</td>\n",
       "      <td>0.0</td>\n",
       "      <td>0.0</td>\n",
       "      <td>0.0</td>\n",
       "      <td>0.0</td>\n",
       "      <td>...</td>\n",
       "      <td>0.0</td>\n",
       "      <td>0.0</td>\n",
       "      <td>0.0</td>\n",
       "      <td>0.0</td>\n",
       "      <td>0.00</td>\n",
       "      <td>0.0</td>\n",
       "      <td>0.0</td>\n",
       "      <td>0.0</td>\n",
       "      <td>0.0</td>\n",
       "      <td>0.0</td>\n",
       "    </tr>\n",
       "    <tr>\n",
       "      <th>4</th>\n",
       "      <td>0.0</td>\n",
       "      <td>0.0</td>\n",
       "      <td>0.0</td>\n",
       "      <td>0.0</td>\n",
       "      <td>0.0</td>\n",
       "      <td>0.0</td>\n",
       "      <td>0.0</td>\n",
       "      <td>0.0</td>\n",
       "      <td>0.0</td>\n",
       "      <td>0.0</td>\n",
       "      <td>...</td>\n",
       "      <td>0.0</td>\n",
       "      <td>0.0</td>\n",
       "      <td>0.0</td>\n",
       "      <td>0.0</td>\n",
       "      <td>0.00</td>\n",
       "      <td>0.0</td>\n",
       "      <td>0.0</td>\n",
       "      <td>0.0</td>\n",
       "      <td>0.0</td>\n",
       "      <td>0.0</td>\n",
       "    </tr>\n",
       "    <tr>\n",
       "      <th>...</th>\n",
       "      <td>...</td>\n",
       "      <td>...</td>\n",
       "      <td>...</td>\n",
       "      <td>...</td>\n",
       "      <td>...</td>\n",
       "      <td>...</td>\n",
       "      <td>...</td>\n",
       "      <td>...</td>\n",
       "      <td>...</td>\n",
       "      <td>...</td>\n",
       "      <td>...</td>\n",
       "      <td>...</td>\n",
       "      <td>...</td>\n",
       "      <td>...</td>\n",
       "      <td>...</td>\n",
       "      <td>...</td>\n",
       "      <td>...</td>\n",
       "      <td>...</td>\n",
       "      <td>...</td>\n",
       "      <td>...</td>\n",
       "      <td>...</td>\n",
       "    </tr>\n",
       "    <tr>\n",
       "      <th>798</th>\n",
       "      <td>0.0</td>\n",
       "      <td>0.0</td>\n",
       "      <td>0.0</td>\n",
       "      <td>0.0</td>\n",
       "      <td>0.0</td>\n",
       "      <td>0.0</td>\n",
       "      <td>0.0</td>\n",
       "      <td>0.0</td>\n",
       "      <td>0.0</td>\n",
       "      <td>0.0</td>\n",
       "      <td>...</td>\n",
       "      <td>0.0</td>\n",
       "      <td>0.0</td>\n",
       "      <td>0.0</td>\n",
       "      <td>0.0</td>\n",
       "      <td>0.00</td>\n",
       "      <td>0.0</td>\n",
       "      <td>0.0</td>\n",
       "      <td>0.0</td>\n",
       "      <td>0.0</td>\n",
       "      <td>0.0</td>\n",
       "    </tr>\n",
       "    <tr>\n",
       "      <th>799</th>\n",
       "      <td>0.0</td>\n",
       "      <td>0.0</td>\n",
       "      <td>0.0</td>\n",
       "      <td>0.0</td>\n",
       "      <td>0.0</td>\n",
       "      <td>0.0</td>\n",
       "      <td>0.0</td>\n",
       "      <td>0.0</td>\n",
       "      <td>0.0</td>\n",
       "      <td>0.0</td>\n",
       "      <td>...</td>\n",
       "      <td>0.0</td>\n",
       "      <td>0.0</td>\n",
       "      <td>0.0</td>\n",
       "      <td>0.0</td>\n",
       "      <td>0.00</td>\n",
       "      <td>0.0</td>\n",
       "      <td>0.0</td>\n",
       "      <td>0.0</td>\n",
       "      <td>0.0</td>\n",
       "      <td>0.0</td>\n",
       "    </tr>\n",
       "    <tr>\n",
       "      <th>800</th>\n",
       "      <td>0.0</td>\n",
       "      <td>0.0</td>\n",
       "      <td>0.0</td>\n",
       "      <td>0.0</td>\n",
       "      <td>0.0</td>\n",
       "      <td>0.0</td>\n",
       "      <td>0.0</td>\n",
       "      <td>0.0</td>\n",
       "      <td>0.0</td>\n",
       "      <td>0.0</td>\n",
       "      <td>...</td>\n",
       "      <td>0.0</td>\n",
       "      <td>0.0</td>\n",
       "      <td>0.0</td>\n",
       "      <td>0.0</td>\n",
       "      <td>0.08</td>\n",
       "      <td>0.0</td>\n",
       "      <td>0.0</td>\n",
       "      <td>0.0</td>\n",
       "      <td>0.0</td>\n",
       "      <td>0.0</td>\n",
       "    </tr>\n",
       "    <tr>\n",
       "      <th>801</th>\n",
       "      <td>0.0</td>\n",
       "      <td>0.0</td>\n",
       "      <td>0.0</td>\n",
       "      <td>0.0</td>\n",
       "      <td>0.0</td>\n",
       "      <td>0.0</td>\n",
       "      <td>0.0</td>\n",
       "      <td>0.0</td>\n",
       "      <td>0.0</td>\n",
       "      <td>0.0</td>\n",
       "      <td>...</td>\n",
       "      <td>0.0</td>\n",
       "      <td>0.0</td>\n",
       "      <td>0.0</td>\n",
       "      <td>0.0</td>\n",
       "      <td>0.00</td>\n",
       "      <td>0.0</td>\n",
       "      <td>0.0</td>\n",
       "      <td>0.0</td>\n",
       "      <td>0.0</td>\n",
       "      <td>0.0</td>\n",
       "    </tr>\n",
       "    <tr>\n",
       "      <th>802</th>\n",
       "      <td>0.0</td>\n",
       "      <td>0.0</td>\n",
       "      <td>0.0</td>\n",
       "      <td>0.0</td>\n",
       "      <td>0.0</td>\n",
       "      <td>0.0</td>\n",
       "      <td>0.0</td>\n",
       "      <td>0.0</td>\n",
       "      <td>0.0</td>\n",
       "      <td>0.0</td>\n",
       "      <td>...</td>\n",
       "      <td>0.0</td>\n",
       "      <td>0.0</td>\n",
       "      <td>0.0</td>\n",
       "      <td>0.0</td>\n",
       "      <td>0.00</td>\n",
       "      <td>0.0</td>\n",
       "      <td>0.0</td>\n",
       "      <td>0.0</td>\n",
       "      <td>0.0</td>\n",
       "      <td>0.0</td>\n",
       "    </tr>\n",
       "  </tbody>\n",
       "</table>\n",
       "<p>803 rows × 4925 columns</p>\n",
       "</div>"
      ],
      "text/plain": [
       "      aa   ab  abandon  aberdeen  abide  abiti  able  abortion  absence  \\\n",
       "0    0.0  0.0      0.0       0.0    0.0    0.0   0.0       0.0      0.0   \n",
       "1    0.0  0.0      0.0       0.0    0.0    0.0   0.0       0.0      0.0   \n",
       "2    0.0  0.0      0.0       0.0    0.0    0.0   0.0       0.0      0.0   \n",
       "3    0.0  0.0      0.0       0.0    0.0    0.0   0.0       0.0      0.0   \n",
       "4    0.0  0.0      0.0       0.0    0.0    0.0   0.0       0.0      0.0   \n",
       "..   ...  ...      ...       ...    ...    ...   ...       ...      ...   \n",
       "798  0.0  0.0      0.0       0.0    0.0    0.0   0.0       0.0      0.0   \n",
       "799  0.0  0.0      0.0       0.0    0.0    0.0   0.0       0.0      0.0   \n",
       "800  0.0  0.0      0.0       0.0    0.0    0.0   0.0       0.0      0.0   \n",
       "801  0.0  0.0      0.0       0.0    0.0    0.0   0.0       0.0      0.0   \n",
       "802  0.0  0.0      0.0       0.0    0.0    0.0   0.0       0.0      0.0   \n",
       "\n",
       "     absent  ...  youth  youtube  yup  zapatos  zero  zimmerman   zo  zone  \\\n",
       "0       0.0  ...    0.0      0.0  0.0      0.0  0.00        0.0  0.0   0.0   \n",
       "1       0.0  ...    0.0      0.0  0.0      0.0  0.00        0.0  0.0   0.0   \n",
       "2       0.0  ...    0.0      0.0  0.0      0.0  0.00        0.0  0.0   0.0   \n",
       "3       0.0  ...    0.0      0.0  0.0      0.0  0.00        0.0  0.0   0.0   \n",
       "4       0.0  ...    0.0      0.0  0.0      0.0  0.00        0.0  0.0   0.0   \n",
       "..      ...  ...    ...      ...  ...      ...   ...        ...  ...   ...   \n",
       "798     0.0  ...    0.0      0.0  0.0      0.0  0.00        0.0  0.0   0.0   \n",
       "799     0.0  ...    0.0      0.0  0.0      0.0  0.00        0.0  0.0   0.0   \n",
       "800     0.0  ...    0.0      0.0  0.0      0.0  0.08        0.0  0.0   0.0   \n",
       "801     0.0  ...    0.0      0.0  0.0      0.0  0.00        0.0  0.0   0.0   \n",
       "802     0.0  ...    0.0      0.0  0.0      0.0  0.00        0.0  0.0   0.0   \n",
       "\n",
       "     zoo   ɲi  \n",
       "0    0.0  0.0  \n",
       "1    0.0  0.0  \n",
       "2    0.0  0.0  \n",
       "3    0.0  0.0  \n",
       "4    0.0  0.0  \n",
       "..   ...  ...  \n",
       "798  0.0  0.0  \n",
       "799  0.0  0.0  \n",
       "800  0.0  0.0  \n",
       "801  0.0  0.0  \n",
       "802  0.0  0.0  \n",
       "\n",
       "[803 rows x 4925 columns]"
      ]
     },
     "execution_count": 8,
     "metadata": {},
     "output_type": "execute_result"
    }
   ],
   "source": [
    "X_train_tfdf"
   ]
  },
  {
   "cell_type": "markdown",
   "metadata": {},
   "source": [
    "### Some data issues using the bag of words model\n",
    "There are some unusual words/columns in the training data:\n",
    "- Chinese characters that are not filtered out by the model and seem to be part of the model's English vocabulary\n",
    "- Many different forms of the word yes/yea\n",
    "- Particularly unusual words such as \"yaknahmsayin\" which seem more like typos\n",
    "- Words such as \"fighting\" that I would expect to be reduced to \"fight\"\n",
    "    - The lemma of \"fighting\" is \"fight\", but this can also depend on the context of the word in the sentence (\"there is no more fighting\")\n",
    "\n",
    "Unusual words are fairly harmless, as they are not likely to be part of many other songs and hence not particularly selective. However, many different ways of writing \"yea\"/\"ye\"/\"yeh\"/... is problematic, as each has its separate column. It might be interesting to summarize such common words written differently. Even if they are common in many songs (high document frequency), the term frequency can be characteristic of a particular artist."
   ]
  },
  {
   "cell_type": "code",
   "execution_count": 9,
   "metadata": {},
   "outputs": [
    {
     "data": {
      "text/html": [
       "<div>\n",
       "<style scoped>\n",
       "    .dataframe tbody tr th:only-of-type {\n",
       "        vertical-align: middle;\n",
       "    }\n",
       "\n",
       "    .dataframe tbody tr th {\n",
       "        vertical-align: top;\n",
       "    }\n",
       "\n",
       "    .dataframe thead th {\n",
       "        text-align: right;\n",
       "    }\n",
       "</style>\n",
       "<table border=\"1\" class=\"dataframe\">\n",
       "  <thead>\n",
       "    <tr style=\"text-align: right;\">\n",
       "      <th></th>\n",
       "      <th>0</th>\n",
       "    </tr>\n",
       "  </thead>\n",
       "  <tbody>\n",
       "    <tr>\n",
       "      <th>4875</th>\n",
       "      <td>wrist</td>\n",
       "    </tr>\n",
       "    <tr>\n",
       "      <th>4876</th>\n",
       "      <td>write</td>\n",
       "    </tr>\n",
       "    <tr>\n",
       "      <th>4877</th>\n",
       "      <td>writer</td>\n",
       "    </tr>\n",
       "    <tr>\n",
       "      <th>4878</th>\n",
       "      <td>writing</td>\n",
       "    </tr>\n",
       "    <tr>\n",
       "      <th>4879</th>\n",
       "      <td>wrong</td>\n",
       "    </tr>\n",
       "    <tr>\n",
       "      <th>4880</th>\n",
       "      <td>ws</td>\n",
       "    </tr>\n",
       "    <tr>\n",
       "      <th>4881</th>\n",
       "      <td>wu</td>\n",
       "    </tr>\n",
       "    <tr>\n",
       "      <th>4882</th>\n",
       "      <td>xxl</td>\n",
       "    </tr>\n",
       "    <tr>\n",
       "      <th>4883</th>\n",
       "      <td>xy</td>\n",
       "    </tr>\n",
       "    <tr>\n",
       "      <th>4884</th>\n",
       "      <td>ya</td>\n",
       "    </tr>\n",
       "    <tr>\n",
       "      <th>4885</th>\n",
       "      <td>yacht</td>\n",
       "    </tr>\n",
       "    <tr>\n",
       "      <th>4886</th>\n",
       "      <td>yack</td>\n",
       "    </tr>\n",
       "    <tr>\n",
       "      <th>4887</th>\n",
       "      <td>yah</td>\n",
       "    </tr>\n",
       "    <tr>\n",
       "      <th>4888</th>\n",
       "      <td>yaknahmsayin</td>\n",
       "    </tr>\n",
       "    <tr>\n",
       "      <th>4889</th>\n",
       "      <td>yappin</td>\n",
       "    </tr>\n",
       "    <tr>\n",
       "      <th>4890</th>\n",
       "      <td>yard</td>\n",
       "    </tr>\n",
       "    <tr>\n",
       "      <th>4891</th>\n",
       "      <td>yay</td>\n",
       "    </tr>\n",
       "    <tr>\n",
       "      <th>4892</th>\n",
       "      <td>yayo</td>\n",
       "    </tr>\n",
       "    <tr>\n",
       "      <th>4893</th>\n",
       "      <td>ye</td>\n",
       "    </tr>\n",
       "    <tr>\n",
       "      <th>4894</th>\n",
       "      <td>yea</td>\n",
       "    </tr>\n",
       "    <tr>\n",
       "      <th>4895</th>\n",
       "      <td>yeah</td>\n",
       "    </tr>\n",
       "    <tr>\n",
       "      <th>4896</th>\n",
       "      <td>year</td>\n",
       "    </tr>\n",
       "    <tr>\n",
       "      <th>4897</th>\n",
       "      <td>yeeeah</td>\n",
       "    </tr>\n",
       "    <tr>\n",
       "      <th>4898</th>\n",
       "      <td>yeezy</td>\n",
       "    </tr>\n",
       "    <tr>\n",
       "      <th>4899</th>\n",
       "      <td>yell</td>\n",
       "    </tr>\n",
       "    <tr>\n",
       "      <th>4900</th>\n",
       "      <td>yellin</td>\n",
       "    </tr>\n",
       "    <tr>\n",
       "      <th>4901</th>\n",
       "      <td>yelling</td>\n",
       "    </tr>\n",
       "    <tr>\n",
       "      <th>4902</th>\n",
       "      <td>yellow</td>\n",
       "    </tr>\n",
       "    <tr>\n",
       "      <th>4903</th>\n",
       "      <td>yep</td>\n",
       "    </tr>\n",
       "    <tr>\n",
       "      <th>4904</th>\n",
       "      <td>yes</td>\n",
       "    </tr>\n",
       "    <tr>\n",
       "      <th>4905</th>\n",
       "      <td>yesterday</td>\n",
       "    </tr>\n",
       "    <tr>\n",
       "      <th>4906</th>\n",
       "      <td>yi</td>\n",
       "    </tr>\n",
       "    <tr>\n",
       "      <th>4907</th>\n",
       "      <td>yield</td>\n",
       "    </tr>\n",
       "    <tr>\n",
       "      <th>4908</th>\n",
       "      <td>ym</td>\n",
       "    </tr>\n",
       "    <tr>\n",
       "      <th>4909</th>\n",
       "      <td>yo</td>\n",
       "    </tr>\n",
       "    <tr>\n",
       "      <th>4910</th>\n",
       "      <td>york</td>\n",
       "    </tr>\n",
       "    <tr>\n",
       "      <th>4911</th>\n",
       "      <td>young</td>\n",
       "    </tr>\n",
       "    <tr>\n",
       "      <th>4912</th>\n",
       "      <td>youngin</td>\n",
       "    </tr>\n",
       "    <tr>\n",
       "      <th>4913</th>\n",
       "      <td>youngster</td>\n",
       "    </tr>\n",
       "    <tr>\n",
       "      <th>4914</th>\n",
       "      <td>yous</td>\n",
       "    </tr>\n",
       "    <tr>\n",
       "      <th>4915</th>\n",
       "      <td>youth</td>\n",
       "    </tr>\n",
       "    <tr>\n",
       "      <th>4916</th>\n",
       "      <td>youtube</td>\n",
       "    </tr>\n",
       "    <tr>\n",
       "      <th>4917</th>\n",
       "      <td>yup</td>\n",
       "    </tr>\n",
       "    <tr>\n",
       "      <th>4918</th>\n",
       "      <td>zapatos</td>\n",
       "    </tr>\n",
       "    <tr>\n",
       "      <th>4919</th>\n",
       "      <td>zero</td>\n",
       "    </tr>\n",
       "    <tr>\n",
       "      <th>4920</th>\n",
       "      <td>zimmerman</td>\n",
       "    </tr>\n",
       "    <tr>\n",
       "      <th>4921</th>\n",
       "      <td>zo</td>\n",
       "    </tr>\n",
       "    <tr>\n",
       "      <th>4922</th>\n",
       "      <td>zone</td>\n",
       "    </tr>\n",
       "    <tr>\n",
       "      <th>4923</th>\n",
       "      <td>zoo</td>\n",
       "    </tr>\n",
       "    <tr>\n",
       "      <th>4924</th>\n",
       "      <td>ɲi</td>\n",
       "    </tr>\n",
       "  </tbody>\n",
       "</table>\n",
       "</div>"
      ],
      "text/plain": [
       "                 0\n",
       "4875         wrist\n",
       "4876         write\n",
       "4877        writer\n",
       "4878       writing\n",
       "4879         wrong\n",
       "4880            ws\n",
       "4881            wu\n",
       "4882           xxl\n",
       "4883            xy\n",
       "4884            ya\n",
       "4885         yacht\n",
       "4886          yack\n",
       "4887           yah\n",
       "4888  yaknahmsayin\n",
       "4889        yappin\n",
       "4890          yard\n",
       "4891           yay\n",
       "4892          yayo\n",
       "4893            ye\n",
       "4894           yea\n",
       "4895          yeah\n",
       "4896          year\n",
       "4897        yeeeah\n",
       "4898         yeezy\n",
       "4899          yell\n",
       "4900        yellin\n",
       "4901       yelling\n",
       "4902        yellow\n",
       "4903           yep\n",
       "4904           yes\n",
       "4905     yesterday\n",
       "4906            yi\n",
       "4907         yield\n",
       "4908            ym\n",
       "4909            yo\n",
       "4910          york\n",
       "4911         young\n",
       "4912       youngin\n",
       "4913     youngster\n",
       "4914          yous\n",
       "4915         youth\n",
       "4916       youtube\n",
       "4917           yup\n",
       "4918       zapatos\n",
       "4919          zero\n",
       "4920     zimmerman\n",
       "4921            zo\n",
       "4922          zone\n",
       "4923           zoo\n",
       "4924            ɲi"
      ]
     },
     "execution_count": 9,
     "metadata": {},
     "output_type": "execute_result"
    }
   ],
   "source": [
    "pd.DataFrame(X_train_tfdf.columns).tail(50)"
   ]
  },
  {
   "cell_type": "code",
   "execution_count": 10,
   "metadata": {},
   "outputs": [
    {
     "data": {
      "text/plain": [
       "'fighting'"
      ]
     },
     "execution_count": 10,
     "metadata": {},
     "output_type": "execute_result"
    }
   ],
   "source": [
    "model(\"look to you\\n\\nAfter losing my breath\\nThere's no more fighting left\\nSinking to rise no more\\nSearching for\")[13].lemma_"
   ]
  },
  {
   "cell_type": "code",
   "execution_count": 11,
   "metadata": {},
   "outputs": [
    {
     "data": {
      "text/plain": [
       "'fighting'"
      ]
     },
     "execution_count": 11,
     "metadata": {},
     "output_type": "execute_result"
    }
   ],
   "source": [
    "model(\"fighting\")[0].lemma_"
   ]
  },
  {
   "cell_type": "code",
   "execution_count": 12,
   "metadata": {},
   "outputs": [
    {
     "data": {
      "text/plain": [
       "True"
      ]
     },
     "execution_count": 12,
     "metadata": {},
     "output_type": "execute_result"
    }
   ],
   "source": [
    "'진짜' in model.vocab"
   ]
  },
  {
   "cell_type": "code",
   "execution_count": 13,
   "metadata": {},
   "outputs": [
    {
     "data": {
      "text/plain": [
       "False"
      ]
     },
     "execution_count": 13,
     "metadata": {},
     "output_type": "execute_result"
    }
   ],
   "source": [
    "'vocabbdskjfb' in model.vocab"
   ]
  },
  {
   "cell_type": "markdown",
   "metadata": {},
   "source": [
    "## 4. Fit Naive-Bayes model to binary classes\n",
    "- Binary classes are imbalanced\n",
    "- Balance classes using oversampling\n",
    "- Train Naive-Bayes models on the imbalanced and balanced datasets"
   ]
  },
  {
   "cell_type": "code",
   "execution_count": 14,
   "metadata": {},
   "outputs": [
    {
     "data": {
      "text/plain": [
       "Bob-Dylan    454\n",
       "Jay-Z        349\n",
       "Name: artist, dtype: int64"
      ]
     },
     "execution_count": 14,
     "metadata": {},
     "output_type": "execute_result"
    }
   ],
   "source": [
    "y_train.value_counts()"
   ]
  },
  {
   "cell_type": "code",
   "execution_count": 15,
   "metadata": {},
   "outputs": [
    {
     "data": {
      "text/plain": [
       "MultinomialNB()"
      ]
     },
     "execution_count": 15,
     "metadata": {},
     "output_type": "execute_result"
    }
   ],
   "source": [
    "clf_nb = MultinomialNB()\n",
    "clf_nb.fit(X_train_tfdf, y_train)"
   ]
  },
  {
   "cell_type": "code",
   "execution_count": 16,
   "metadata": {},
   "outputs": [
    {
     "data": {
      "text/plain": [
       "Jay-Z        454\n",
       "Bob-Dylan    454\n",
       "Name: artist, dtype: int64"
      ]
     },
     "execution_count": 16,
     "metadata": {},
     "output_type": "execute_result"
    }
   ],
   "source": [
    "ros = RandomOverSampler(sampling_strategy = 'not majority')\n",
    "X_resampled, y_resampled = ros.fit_resample(X_train_tfdf, y_train)\n",
    "y_resampled.value_counts()"
   ]
  },
  {
   "cell_type": "code",
   "execution_count": 18,
   "metadata": {},
   "outputs": [
    {
     "data": {
      "text/plain": [
       "MultinomialNB()"
      ]
     },
     "execution_count": 18,
     "metadata": {},
     "output_type": "execute_result"
    }
   ],
   "source": [
    "clf_nb_sampled = MultinomialNB()\n",
    "clf_nb_sampled.fit(X_resampled, y_resampled)"
   ]
  },
  {
   "cell_type": "markdown",
   "metadata": {},
   "source": [
    "## 5. Score model\n",
    "- Binary classification with Naive-Bayes shows a high accuracy of 97.4%, i.e. number of true positives over total\n",
    "- Precision and recall are also very high at > 96 % for either class\n",
    "- The number of misclassified samples are 10 out of 268 for Naive-Bayes, and 7 out of 268 for Naive-Bayes with oversampling"
   ]
  },
  {
   "cell_type": "code",
   "execution_count": 20,
   "metadata": {},
   "outputs": [
    {
     "name": "stdout",
     "output_type": "stream",
     "text": [
      "Training Score: 0.9726027397260274\n",
      "Testing Score: 0.9626865671641791\n"
     ]
    }
   ],
   "source": [
    "func.print_model_scores(clf_nb, X_train_tfdf, X_test_tfdf, y_train, y_test)"
   ]
  },
  {
   "cell_type": "code",
   "execution_count": 28,
   "metadata": {},
   "outputs": [
    {
     "data": {
      "text/plain": [
       "Text(0.5, 1.0, 'Naive-Bayes with oversampling')"
      ]
     },
     "execution_count": 28,
     "metadata": {},
     "output_type": "execute_result"
    },
    {
     "data": {
      "image/png": "[encoded data removed]",
      "text/plain": [
       "<Figure size 432x288 with 2 Axes>"
      ]
     },
     "metadata": {
      "needs_background": "light"
     },
     "output_type": "display_data"
    },
    {
     "data": {
      "image/png": "[encoded data removed]",
      "text/plain": [
       "<Figure size 432x288 with 2 Axes>"
      ]
     },
     "metadata": {
      "needs_background": "light"
     },
     "output_type": "display_data"
    }
   ],
   "source": [
    "metrics.plot_confusion_matrix(clf_nb, X_test_tfdf, y_test, normalize=None)\n",
    "plt.title(\"Naive-Bayes\")\n",
    "metrics.plot_confusion_matrix(clf_nb_sampled, X_test_tfdf, y_test, normalize=None)\n",
    "plt.title(\"Naive-Bayes with oversampling\")"
   ]
  },
  {
   "cell_type": "markdown",
   "metadata": {},
   "source": [
    "### Precision score\n",
    "- sklearn: \"The precision is the ratio tp / (tp + fp) where tp is the number of true positives and fp the number of false positives. The precision is intuitively the ability of the classifier not to label as positive a sample that is negative.\"\n",
    "- The precision score does not care about the number of false negatives!\n",
    "- E.g. How many of the predicted Bob Dylan's were actually Bob Dylan? 149/153 = 0.974"
   ]
  },
  {
   "cell_type": "code",
   "execution_count": 22,
   "metadata": {},
   "outputs": [
    {
     "data": {
      "text/plain": [
       "array([0.97385621, 0.97391304])"
      ]
     },
     "execution_count": 22,
     "metadata": {},
     "output_type": "execute_result"
    }
   ],
   "source": [
    "metrics.precision_score(y_test, clf_nb_sampled.predict(X_test_tfdf), average = None)"
   ]
  },
  {
   "cell_type": "markdown",
   "metadata": {},
   "source": [
    "### Recall score\n",
    "- sklearn: \"The precision is the ratio tp / (tp + fp) where tp is the number of true positives and fp the number of false positives. The precision is intuitively the ability of the classifier not to label as positive a sample that is negative.\"\n",
    "- The recall score does not care about false positives!\n",
    "- E.g. How many of the actual Bob Dylan's were predicted as Bob Dylan? 149 / 152 = 0.98"
   ]
  },
  {
   "cell_type": "code",
   "execution_count": 23,
   "metadata": {},
   "outputs": [
    {
     "data": {
      "text/plain": [
       "array([0.98026316, 0.96551724])"
      ]
     },
     "execution_count": 23,
     "metadata": {},
     "output_type": "execute_result"
    }
   ],
   "source": [
    "metrics.recall_score(y_test, clf_nb_sampled.predict(X_test_tfdf), average = None)"
   ]
  },
  {
   "cell_type": "markdown",
   "metadata": {},
   "source": [
    "### Precision-Recall curve\n",
    "- Precision and recall are somewhat conflicting measures: Usually tuning the model to perfect one of the scores comes at the price of the other score. This is particularly important when classes are imbalanced\n",
    "- E.g. To predict all the actuals and get a recall of 100 %, the number of false positives will likely increase, which means that the precision of the model will suffer\n",
    "- The curve shows computed precision-recall pairs for different probability thresholds of the classifier"
   ]
  },
  {
   "cell_type": "code",
   "execution_count": 24,
   "metadata": {},
   "outputs": [
    {
     "data": {
      "text/plain": [
       "<sklearn.metrics._plot.precision_recall_curve.PrecisionRecallDisplay at 0x14a48afd0>"
      ]
     },
     "execution_count": 24,
     "metadata": {},
     "output_type": "execute_result"
    },
    {
     "data": {
      "image/png": "[encoded data removed]",
      "text/plain": [
       "<Figure size 432x288 with 1 Axes>"
      ]
     },
     "metadata": {
      "needs_background": "light"
     },
     "output_type": "display_data"
    }
   ],
   "source": [
    "disp = metrics.plot_precision_recall_curve(clf_nb, X_test_tfdf, y_test, label='Naive-Bayes')\n",
    "metrics.plot_precision_recall_curve(clf_nb_sampled, X_test_tfdf, y_test, ax=disp.ax_, label='Naive-Bayes with oversampling')"
   ]
  },
  {
   "cell_type": "markdown",
   "metadata": {},
   "source": [
    "## Accuracy\n",
    "- Number of true positives over total (bad measure for unbalanced classes)"
   ]
  },
  {
   "cell_type": "code",
   "execution_count": 31,
   "metadata": {},
   "outputs": [
    {
     "data": {
      "text/plain": [
       "0.9738805970149254"
      ]
     },
     "execution_count": 31,
     "metadata": {},
     "output_type": "execute_result"
    }
   ],
   "source": [
    "metrics.accuracy_score(y_test, clf_nb_sampled.predict(X_test_tfdf))"
   ]
  }
 ],
 "metadata": {
  "kernelspec": {
   "display_name": "myenv",
   "language": "python",
   "name": "myenv"
  },
  "language_info": {
   "codemirror_mode": {
    "name": "ipython",
    "version": 3
   },
   "file_extension": ".py",
   "mimetype": "text/x-python",
   "name": "python",
   "nbconvert_exporter": "python",
   "pygments_lexer": "ipython3",
   "version": "3.6.8"
  }
 },
 "nbformat": 4,
 "nbformat_minor": 4
}
